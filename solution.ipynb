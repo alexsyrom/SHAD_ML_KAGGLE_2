{
 "metadata": {
  "name": ""
 },
 "nbformat": 3,
 "nbformat_minor": 0,
 "worksheets": [
  {
   "cells": [
    {
     "cell_type": "heading",
     "level": 1,
     "metadata": {},
     "source": [
      "Load libraries"
     ]
    },
    {
     "cell_type": "code",
     "collapsed": false,
     "input": [
      "import numpy as np\n",
      "import pandas as pd\n",
      "\n",
      "from sklearn.preprocessing import Imputer\n",
      "from sklearn.ensemble import RandomForestClassifier"
     ],
     "language": "python",
     "metadata": {},
     "outputs": [],
     "prompt_number": 2
    },
    {
     "cell_type": "heading",
     "level": 1,
     "metadata": {},
     "source": [
      "Read train and test data"
     ]
    },
    {
     "cell_type": "code",
     "collapsed": false,
     "input": [
      "Xtrain = np.array(pd.read_csv('X.train.csv'))\n",
      "Xtest = np.array(pd.read_csv('X.test.csv'))\n",
      "\n",
      "ytrain = np.array(pd.read_csv('y.train.csv')['label'])"
     ],
     "language": "python",
     "metadata": {},
     "outputs": [],
     "prompt_number": 3
    },
    {
     "cell_type": "heading",
     "level": 1,
     "metadata": {},
     "source": [
      "Replace all NaN's in train and test data to most frequent values in train data"
     ]
    },
    {
     "cell_type": "code",
     "collapsed": false,
     "input": [
      "imp = Imputer(missing_values = 'NaN', strategy = 'most_frequent', axis = 0)\n",
      "imp.fit(Xtrain)\n",
      "\n",
      "Xtrain = imp.transform(Xtrain)\n",
      "Xtest = imp.transform(Xtest)"
     ],
     "language": "python",
     "metadata": {},
     "outputs": [],
     "prompt_number": 4
    },
    {
     "cell_type": "heading",
     "level": 1,
     "metadata": {},
     "source": [
      "Train Random Forest classifier"
     ]
    },
    {
     "cell_type": "code",
     "collapsed": false,
     "input": [
      "clf = RandomForestClassifier(n_estimators = 100, n_jobs = -1)\n",
      "clf.fit(Xtrain, ytrain)\n",
      "\n",
      "ypred = clf.predict_proba(Xtest)[:, 1]"
     ],
     "language": "python",
     "metadata": {},
     "outputs": [],
     "prompt_number": 5
    },
    {
     "cell_type": "heading",
     "level": 1,
     "metadata": {},
     "source": [
      "Save predictions"
     ]
    },
    {
     "cell_type": "code",
     "collapsed": false,
     "input": [
      "dfpred = pd.DataFrame()\n",
      "dfpred['Id'] = np.arange(len(ypred))\n",
      "dfpred['Prediction'] = ypred\n",
      "\n",
      "dfpred.to_csv('y.predicted.csv', index = False)"
     ],
     "language": "python",
     "metadata": {},
     "outputs": [],
     "prompt_number": 8
    }
   ],
   "metadata": {}
  }
 ]
}
